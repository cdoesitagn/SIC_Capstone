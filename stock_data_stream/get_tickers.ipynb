{
 "cells": [
  {
   "cell_type": "code",
   "execution_count": 2,
   "id": "338aca3c-f6ae-4402-b12c-3aecd06b0444",
   "metadata": {},
   "outputs": [],
   "source": [
    "from vnstock3 import Vnstock"
   ]
  },
  {
   "cell_type": "code",
   "execution_count": null,
   "id": "5641c8dc-8e3e-4312-950b-ed7ca00ef50a",
   "metadata": {},
   "outputs": [],
   "source": []
  }
 ],
 "metadata": {
  "kernelspec": {
   "display_name": "Python 3 (ipykernel)",
   "language": "python",
   "name": "python3"
  },
  "language_info": {
   "codemirror_mode": {
    "name": "ipython",
    "version": 3
   },
   "file_extension": ".py",
   "mimetype": "text/x-python",
   "name": "python",
   "nbconvert_exporter": "python",
   "pygments_lexer": "ipython3",
   "version": "3.12.3"
  }
 },
 "nbformat": 4,
 "nbformat_minor": 5
}
